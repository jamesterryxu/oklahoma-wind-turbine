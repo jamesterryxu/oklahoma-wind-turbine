{
 "cells": [
  {
   "cell_type": "code",
   "execution_count": 1,
   "id": "91be7d3e",
   "metadata": {},
   "outputs": [],
   "source": [
    "%load_ext autoreload\n",
    "%autoreload 2"
   ]
  },
  {
   "cell_type": "code",
   "execution_count": 2,
   "id": "81b4f50b",
   "metadata": {},
   "outputs": [],
   "source": [
    "import numpy as np\n",
    "from scipy import signal\n",
    "from scipy.signal import butter\n",
    "from scipy.signal import filtfilt\n",
    "import matplotlib.pyplot as plt\n",
    "import h5py"
   ]
  },
  {
   "cell_type": "code",
   "execution_count": 22,
   "id": "7518a8da",
   "metadata": {},
   "outputs": [],
   "source": [
    "from utils.utils import *"
   ]
  },
  {
   "attachments": {},
   "cell_type": "markdown",
   "id": "0ad3d7ea",
   "metadata": {},
   "source": [
    "### First decimate the files down to 100 Hz, and convert to strain values"
   ]
  },
  {
   "cell_type": "code",
   "execution_count": 75,
   "id": "a63d0515",
   "metadata": {},
   "outputs": [
    {
     "name": "stdout",
     "output_type": "stream",
     "text": [
      "Decimating sensor_2023-07-15T105951-0500.h5\n",
      "8\n",
      "sensor_2023-07-15T105951-0500.h5 decimated\n",
      "Decimating sensor_2023-07-15T110951-0500.h5\n",
      "8\n",
      "sensor_2023-07-15T110951-0500.h5 decimated\n"
     ]
    }
   ],
   "source": [
    "dir_1 = r'D:\\das-data-oklahoma\\recording_2023-07-15T10_59_52-0500'\n",
    "batch_decim_to_100(dir_1)"
   ]
  },
  {
   "cell_type": "code",
   "execution_count": 76,
   "id": "64ca0ca6",
   "metadata": {},
   "outputs": [
    {
     "name": "stdout",
     "output_type": "stream",
     "text": [
      "sensor_2023-07-15T105951-0500_decimated100hz.h5\n",
      "sensor_2023-07-15T110951-0500_decimated100hz.h5\n"
     ]
    }
   ],
   "source": [
    "concatenate_and_save_h5(directory_to_file=dir_1,output_filename='_decimated100hz_compiled')"
   ]
  },
  {
   "cell_type": "code",
   "execution_count": null,
   "id": "d6c6d2e9",
   "metadata": {},
   "outputs": [],
   "source": []
  },
  {
   "cell_type": "code",
   "execution_count": 77,
   "id": "4ce88d6c",
   "metadata": {},
   "outputs": [
    {
     "name": "stdout",
     "output_type": "stream",
     "text": [
      "Decimating sensor_2023-07-16T120857-0500.h5\n",
      "8\n",
      "sensor_2023-07-16T120857-0500.h5 decimated\n",
      "Decimating sensor_2023-07-16T121857-0500.h5\n",
      "8\n",
      "sensor_2023-07-16T121857-0500.h5 decimated\n"
     ]
    }
   ],
   "source": [
    "dir_2 = r'D:\\das-data-oklahoma\\recording_2023-07-16T12_08_58-0500'\n",
    "batch_decim_to_100(dir_2)"
   ]
  },
  {
   "cell_type": "code",
   "execution_count": 78,
   "id": "4261ce1d",
   "metadata": {},
   "outputs": [
    {
     "name": "stdout",
     "output_type": "stream",
     "text": [
      "sensor_2023-07-16T120857-0500_decimated100hz.h5\n"
     ]
    },
    {
     "name": "stdout",
     "output_type": "stream",
     "text": [
      "sensor_2023-07-16T121857-0500_decimated100hz.h5\n"
     ]
    }
   ],
   "source": [
    "concatenate_and_save_h5(directory_to_file=dir_2,output_filename='_decimated100hz_compiled')"
   ]
  },
  {
   "cell_type": "code",
   "execution_count": null,
   "id": "63b0a607",
   "metadata": {},
   "outputs": [],
   "source": []
  },
  {
   "cell_type": "code",
   "execution_count": 79,
   "id": "54c20b99",
   "metadata": {},
   "outputs": [
    {
     "name": "stdout",
     "output_type": "stream",
     "text": [
      "Decimating sensor_2023-07-17T105954-0500.h5\n",
      "8\n",
      "sensor_2023-07-17T105954-0500.h5 decimated\n",
      "Decimating sensor_2023-07-17T110954-0500.h5\n",
      "8\n",
      "sensor_2023-07-17T110954-0500.h5 decimated\n"
     ]
    }
   ],
   "source": [
    "dir_3 = r'D:\\das-data-oklahoma\\recording_2023-07-17T10_59_55-0500'\n",
    "batch_decim_to_100(dir_3)"
   ]
  },
  {
   "cell_type": "code",
   "execution_count": 80,
   "id": "1ccb3781",
   "metadata": {},
   "outputs": [
    {
     "name": "stdout",
     "output_type": "stream",
     "text": [
      "sensor_2023-07-17T105954-0500_decimated100hz.h5\n",
      "sensor_2023-07-17T110954-0500_decimated100hz.h5\n"
     ]
    }
   ],
   "source": [
    "concatenate_and_save_h5(directory_to_file=dir_3,output_filename='_decimated100hz_compiled')"
   ]
  },
  {
   "cell_type": "code",
   "execution_count": null,
   "id": "4bb49cad",
   "metadata": {},
   "outputs": [],
   "source": []
  },
  {
   "cell_type": "code",
   "execution_count": null,
   "id": "8af3a6d4",
   "metadata": {},
   "outputs": [],
   "source": []
  },
  {
   "cell_type": "code",
   "execution_count": 19,
   "id": "db5598a7",
   "metadata": {},
   "outputs": [],
   "source": [
    "strain1,time1 = load_decim_data(directory_to_file=directory_to_file1,\n",
    "                              name_of_file=name_of_file1+'_decimated100hz')"
   ]
  },
  {
   "cell_type": "code",
   "execution_count": 21,
   "id": "47ebcaa1",
   "metadata": {},
   "outputs": [],
   "source": [
    "strain2,time2 = load_decim_data(directory_to_file=directory_to_file2,\n",
    "                              name_of_file=name_of_file2+'_decimated100hz')"
   ]
  },
  {
   "cell_type": "code",
   "execution_count": 63,
   "metadata": {},
   "outputs": [],
   "source": [
    "strain3,time3 = load_decim_data(directory_to_file=directory_to_file3,\n",
    "                              name_of_file=name_of_file3+'_decimated100hz')"
   ]
  },
  {
   "cell_type": "code",
   "execution_count": 60,
   "id": "59d8d60d",
   "metadata": {},
   "outputs": [],
   "source": [
    "strain_compiled,time_compiled = load_decim_data(directory_to_file=directory_to_file1,\n",
    "                                                name_of_file='sensor_2023-06-06T094457-0500_decimated100hz_compiled')"
   ]
  },
  {
   "cell_type": "code",
   "execution_count": 72,
   "id": "5dd7c23e",
   "metadata": {},
   "outputs": [
    {
     "name": "stdout",
     "output_type": "stream",
     "text": [
      "(102, 162572)\n"
     ]
    }
   ],
   "source": []
  }
 ],
 "metadata": {
  "kernelspec": {
   "display_name": "Python 3 (ipykernel)",
   "language": "python",
   "name": "python3"
  },
  "language_info": {
   "codemirror_mode": {
    "name": "ipython",
    "version": 3
   },
   "file_extension": ".py",
   "mimetype": "text/x-python",
   "name": "python",
   "nbconvert_exporter": "python",
   "pygments_lexer": "ipython3",
   "version": "3.8.8"
  }
 },
 "nbformat": 4,
 "nbformat_minor": 5
}
