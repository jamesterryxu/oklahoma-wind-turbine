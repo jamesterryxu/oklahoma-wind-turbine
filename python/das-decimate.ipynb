{
 "cells": [
  {
   "cell_type": "code",
   "execution_count": 43,
   "id": "91be7d3e",
   "metadata": {},
   "outputs": [
    {
     "name": "stdout",
     "output_type": "stream",
     "text": [
      "The autoreload extension is already loaded. To reload it, use:\n",
      "  %reload_ext autoreload\n"
     ]
    }
   ],
   "source": [
    "%load_ext autoreload\n",
    "%autoreload 2"
   ]
  },
  {
   "cell_type": "code",
   "execution_count": 7,
   "id": "81b4f50b",
   "metadata": {},
   "outputs": [],
   "source": [
    "import numpy as np\n",
    "from scipy import signal\n",
    "from scipy.signal import butter\n",
    "from scipy.signal import filtfilt\n",
    "import matplotlib.pyplot as plt\n",
    "import h5py"
   ]
  },
  {
   "cell_type": "code",
   "execution_count": 44,
   "id": "7518a8da",
   "metadata": {},
   "outputs": [],
   "source": [
    "from utils.utils import *"
   ]
  },
  {
   "attachments": {},
   "cell_type": "markdown",
   "id": "0ad3d7ea",
   "metadata": {},
   "source": [
    "### First decimate the files down to 100 Hz, and convert to strain values"
   ]
  },
  {
   "cell_type": "code",
   "execution_count": 16,
   "id": "a634832c",
   "metadata": {},
   "outputs": [],
   "source": [
    "directory_to_file1 = r'D:\\das-data-oklahoma\\recording_2023-06-06T09_44_56-0500'\n",
    "name_of_file1 = 'sensor_2023-06-06T094457-0500'\n",
    "decim_to_100(directory_to_file=directory_to_file1,name_of_file=name_of_file1,gauge_length=8,decim_factor=50)"
   ]
  },
  {
   "cell_type": "code",
   "execution_count": 17,
   "id": "ff9cd7c6",
   "metadata": {},
   "outputs": [],
   "source": [
    "directory_to_file2 = r'D:\\das-data-oklahoma\\recording_2023-06-06T09_44_56-0500'\n",
    "name_of_file2 = 'sensor_2023-06-06T095457-0500'\n",
    "decim_to_100(directory_to_file=directory_to_file2,name_of_file=name_of_file2,gauge_length=8,decim_factor=50)"
   ]
  },
  {
   "cell_type": "code",
   "execution_count": 39,
   "id": "168dc327",
   "metadata": {},
   "outputs": [],
   "source": [
    "directory_to_file3 = r'D:\\das-data-oklahoma\\recording_2023-06-06T09_44_56-0500'\n",
    "name_of_file3 = 'sensor_2023-06-06T100457-0500'\n",
    "decim_to_100(directory_to_file=directory_to_file3,name_of_file=name_of_file3,gauge_length=8,decim_factor=50)"
   ]
  },
  {
   "cell_type": "code",
   "execution_count": 19,
   "id": "db5598a7",
   "metadata": {},
   "outputs": [],
   "source": [
    "strain1,time1 = load_decim_data(directory_to_file=directory_to_file1,\n",
    "                              name_of_file=name_of_file1+'_decimated100hz')"
   ]
  },
  {
   "cell_type": "code",
   "execution_count": 21,
   "id": "47ebcaa1",
   "metadata": {},
   "outputs": [],
   "source": [
    "strain2,time2 = load_decim_data(directory_to_file=directory_to_file2,\n",
    "                              name_of_file=name_of_file2+'_decimated100hz')"
   ]
  },
  {
   "cell_type": "code",
   "execution_count": 35,
   "metadata": {},
   "outputs": [],
   "source": [
    "strain3,time3 = load_decim_data(directory_to_file=directory_to_file3,\n",
    "                              name_of_file=name_of_file3+'_decimated100hz')"
   ]
  },
  {
   "cell_type": "code",
   "execution_count": 55,
   "id": "d380604c",
   "metadata": {},
   "outputs": [
    {
     "name": "stdout",
     "output_type": "stream",
     "text": [
      "sensor_2023-06-06T094457-0500_decimated100hz.h5\n",
      "(102, 60000)\n",
      "sensor_2023-06-06T095457-0500_decimated100hz.h5\n",
      "(102, 60000)\n",
      "sensor_2023-06-06T100457-0500_decimated100hz.h5\n",
      "(102, 42572)\n",
      "(102, 162572)\n",
      "(162572,)\n"
     ]
    }
   ],
   "source": [
    "concatenate_and_save_h5(directory_to_file=directory_to_file1,output_filename='_decimated100hz_compiled')"
   ]
  }
 ],
 "metadata": {
  "kernelspec": {
   "display_name": "Python 3 (ipykernel)",
   "language": "python",
   "name": "python3"
  },
  "language_info": {
   "codemirror_mode": {
    "name": "ipython",
    "version": 3
   },
   "file_extension": ".py",
   "mimetype": "text/x-python",
   "name": "python",
   "nbconvert_exporter": "python",
   "pygments_lexer": "ipython3",
   "version": "3.8.8"
  }
 },
 "nbformat": 4,
 "nbformat_minor": 5
}
